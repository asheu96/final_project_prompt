{
 "cells": [
  {
   "cell_type": "code",
   "execution_count": 1,
   "metadata": {},
   "outputs": [],
   "source": [
    "import pandas as pd\n",
    "import numpy as np\n",
    "import warnings\n",
    "warnings.filterwarnings('ignore')"
   ]
  },
  {
   "cell_type": "markdown",
   "metadata": {},
   "source": [
    "### Importing Data\n",
    "\n",
    "For the purposes of this project, I have drawn a lot of insight from the Capstone project done here: https://github.com/YaronBlinder/MIMIC-III_readmission/blob/master/Report.pdf \n",
    "\n",
    "Based on some of the previous work done, I determined the tables I wanted to download from the Mimic III database. The **admissions** table gives me relevant information such as Subject ID, Admission ID, Admit Time, Discharge Time, Death Time (if died during stay), Marital Status and Insurance provider. From the **patients** table, I can obtain information such Age and Gender. From the **lab events** I was able to determine the numerical values for lab tests based on their test ID and from **D_LABITEMS** I was able to find the lab test IDs for the actual tests that I am interested in (namely Calcium (Total), Albumin, Urea Nitrogen and Magnesium)\n",
    "\n",
    "Since the **lab events** table was most likely too big to be loaded into memory of the Jupyter Notebook, I parsed out only the columns that I wanted (SUBJECT_ID, HADM_ID, ITEM_ID and VALUENUM) and then took the first 2 million rows of the data set. This was done on command line using the following commands:\n",
    "\n",
    "*cut -d , -f 2,4-6 LABEVENTS.csv > test.csv*  \n",
    "*sudo head -n 2000000 test.csv > cleaned_data.csv*"
   ]
  },
  {
   "cell_type": "code",
   "execution_count": null,
   "metadata": {},
   "outputs": [],
   "source": [
    "admissions = pd.read_csv('ADMISSIONS.csv')\n",
    "labevents = pd.read_csv('cleaned_data.csv')\n",
    "D_lab = pd.read_csv('D_LABITEMS.csv')\n",
    "patients = pd.read_csv('PATIENTS.csv')"
   ]
  },
  {
   "cell_type": "markdown",
   "metadata": {},
   "source": [
    "### Cleaning Up the Data\n",
    "\n",
    "In the labevents csv file, there were many cases where there was no information in the HADM_ID section. These correspond with outpatients and will not be something that I will be considering. As such, the first step that I took was in removing any NaN values that existed in the HADM_ID column of the labevents dataframe.\n",
    "\n",
    "Next, since I want to be use age as a statistic, I will calculate the patient's age based on their DOB (unless they have a DOB, in which case I will calculate their age by subtracting the DOB from the DOD). To find the patients that are still alive, since I was uncertain about how the timestamps were recorded, I decided to make the current time one year after the latest date of death and use that as the current time stamp.\n",
    "\n",
    "To make the dataset easier to visualize, upon the calculating the age, I also removed information that was not relevant to the machine learning process."
   ]
  },
  {
   "cell_type": "code",
   "execution_count": null,
   "metadata": {},
   "outputs": [],
   "source": [
    "labevents = labevents.dropna()\n",
    "# removes all rows that have are NaN in the dataframe - in this case, only HADM_ID has NaNs\n",
    "\n",
    "patients['DOB'] = pd.to_datetime(patients['DOB'])\n",
    "patients['DOD'] = pd.to_datetime(patients['DOD'])\n",
    "# converts DOD and DOB to data time objects in the pd dataframe\n",
    "\n",
    "print((patients['DOD']).max())\n",
    "currentTime = pd.Timestamp(2212, 6, 10, 10, 10, 10)\n",
    "# find the current time by adding one year onto the most recent date of death\n",
    "\n",
    "patients['Age'] = ((patients['DOD'] - patients['DOB']).dt.days)/365\n",
    "# for the rows that do not have NaN in the DOD column, subtract the DOB from DOD to get the age at their time of death\n",
    "\n",
    "patients['CurrentTime'] = currentTime\n",
    "patients['CurrentTime'] = pd.to_datetime(patients['CurrentTime'])\n",
    "\n",
    "patients['Temp'] = (patients['CurrentTime'] - patients['DOB']).dt.days/365\n",
    "# creates a temporary column that has the ages of the patients - including all the patients that have died\n",
    "\n",
    "patients.loc[patients['Age'].isna(), 'Age'] = patients['Temp']\n",
    "# for all the ages that are nan - i.e. the patients that do not have a DOD value -, replace it with the age calculated\n",
    "\n",
    "patients = patients[['ROW_ID', 'SUBJECT_ID', 'GENDER', 'DOB', 'DOD', 'Age']]\n",
    "\n",
    "patients.head()\n",
    "\n",
    "D_lab.head()\n",
    "\n",
    "labevents.head()"
   ]
  },
  {
   "cell_type": "markdown",
   "metadata": {},
   "source": [
    "I then further cleaned up, and made the **labevents** table smaller by only keeping the lab tests that I thought were relevant to the machine learning model. I got the *ITEMID* of the tests corresponding to the four categories I listed below.\n",
    "\n",
    "Calcium (Total) - 50893   \n",
    "Albumin - 50862   \n",
    "Urea Nitrogen - 51006   \n",
    "Magnesium - 50960\n"
   ]
  },
  {
   "cell_type": "code",
   "execution_count": null,
   "metadata": {},
   "outputs": [],
   "source": [
    "labevents = labevents.loc[(labevents['ITEMID'] == 50893) | (labevents['ITEMID'] == 50862) | \n",
    "                          (labevents['ITEMID']==51006) | (labevents['ITEMID'] == 50960)]\n",
    "\n",
    "labevents.head()"
   ]
  },
  {
   "cell_type": "markdown",
   "metadata": {},
   "source": [
    "Following this, I combined the **labevents** table with the the **D_LABITEMS** table so that I would be able to better see on the table what each of the lab tests actually was."
   ]
  },
  {
   "cell_type": "code",
   "execution_count": null,
   "metadata": {},
   "outputs": [],
   "source": []
  }
 ],
 "metadata": {
  "kernelspec": {
   "display_name": "Python 3",
   "language": "python",
   "name": "python3"
  },
  "language_info": {
   "codemirror_mode": {
    "name": "ipython",
    "version": 3
   },
   "file_extension": ".py",
   "mimetype": "text/x-python",
   "name": "python",
   "nbconvert_exporter": "python",
   "pygments_lexer": "ipython3",
   "version": "3.7.1"
  }
 },
 "nbformat": 4,
 "nbformat_minor": 2
}
