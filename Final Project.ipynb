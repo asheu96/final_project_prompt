{
 "cells": [
  {
   "cell_type": "markdown",
   "metadata": {},
   "source": [
    "# Final Project#\n",
    "\n",
    "For the final project, I have chosen to create a machine learning model based on the 30-ICU readmissions based on the MIMIC-III database.\n",
    "\n",
    "The MIMIC-III database is as cited below:\n",
    "\n",
    "MIMIC-III, a freely accessible critical care database. Johnson AEW, Pollard TJ, Shen L, Lehman L, Feng M, Ghassemi M, Moody B, Szolovits P, Celi LA, and Mark RG. Scientific Data (2016). DOI: 10.1038/sdata.2016.35. Available from: \n",
    "http://www.nature.com/articles/sdata201635\n"
   ]
  },
  {
   "cell_type": "code",
   "execution_count": 1,
   "metadata": {},
   "outputs": [],
   "source": [
    "import pandas as pd\n",
    "import numpy as np\n",
    "import warnings\n",
    "warnings.filterwarnings('ignore')"
   ]
  },
  {
   "cell_type": "markdown",
   "metadata": {},
   "source": [
    "## Overview and Background##\n",
    "\n",
    "The project that I have chosen to investigate is in creating a machine learning model based on predicting on whether a particular patient will be readmitted within 30-days. While the basis behind this problem may not be particularly evident, there is actually a variety of reasons why predicting whether a patient will be readmitted is particularly useful.\n",
    "\n",
    "The first of these is in terms of the financial costs to the hospital institution. The idea behind evaluating 30-day readmissions is that if a patient is sick enough to come back within 30-days of last entering the hospital, it is highly likely that they were not in a stable enough condition to be discahrged in the first place. By predicting the patients that are at high risk for readmission, it is possible to reduce the amount of unnnecessary financial burden on the hospital since readmissions are particularly draining on hospital resources.\n",
    "\n",
    "The second problem that this would help solve would be in reducing the amount of space that are required to house these readmitted patients. When a patient is readmitted within 30 days from their discharge, they not only drain financial resources from the hospital, but can also take up necessary bed space and hospital space that could be potentially needed to treat other patients. \n",
    "\n",
    "In this sense, if physcians had the means to predict whether a patient were at high risk to be readmitted, they would be able to take extra measures to make sure the patients are kept in the hospital and not discharged until they are unlikely to be readmitted within a short period of time."
   ]
  },
  {
   "cell_type": "markdown",
   "metadata": {},
   "source": [
    "## Data \n",
    "\n",
    "### Importing Data\n",
    "\n",
    "For the purposes of this project, I have drawn a lot of insight from the Capstone project done here: https://github.com/YaronBlinder/MIMIC-III_readmission/blob/master/Report.pdf \n",
    "\n",
    "Based on some of the previous work done, I determined the tables I wanted to download from the Mimic III database. The **admissions** table gives me relevant information such as Subject ID, Admission ID, Admit Time, Discharge Time, Death Time (if died during stay), Marital Status and Insurance provider. From the **patients** table, I can obtain information such Age and Gender. From the **lab events** I was able to determine the numerical values for lab tests based on their test ID and from **D_LABITEMS** I was able to find the lab test IDs for the actual tests that I am interested in (namely Calcium (Total), Albumin, Urea Nitrogen and Magnesium)\n",
    "\n",
    "Since the **lab events** table was most likely too big to be loaded into memory of the Jupyter Notebook, I parsed out only the columns that I wanted (SUBJECT_ID, HADM_ID, ITEM_ID and VALUENUM) and then took the first 2 million rows of the data set. This was done on command line using the following commands:\n",
    "\n",
    "*cut -d , -f 2,4-6 LABEVENTS.csv > test.csv*  \n",
    "*sudo head -n 2000000 test.csv > cleaned_data.csv*"
   ]
  },
  {
   "cell_type": "code",
   "execution_count": 2,
   "metadata": {},
   "outputs": [],
   "source": [
    "admissions = pd.read_csv('ADMISSIONS.csv')\n",
    "labevents = pd.read_csv('cleaned_data.csv')\n",
    "D_lab = pd.read_csv('D_LABITEMS.csv')\n",
    "patients = pd.read_csv('PATIENTS.csv')"
   ]
  },
  {
   "cell_type": "markdown",
   "metadata": {},
   "source": [
    "### Cleaning Up the Data\n",
    "\n",
    "In the labevents csv file, there were many cases where there was no information in the HADM_ID section. These correspond with outpatients and will not be something that I will be considering. As such, the first step that I took was in removing any NaN values that existed in the HADM_ID column of the labevents dataframe.\n",
    "\n",
    "Next, since I want to be use age as a statistic, I will calculate the patient's age based on their DOB (unless they have a DOB, in which case I will calculate their age by subtracting the DOB from the DOD). To find the patients that are still alive, since I was uncertain about how the timestamps were recorded, I decided to make the current time one year after the latest date of death and use that as the current time stamp.\n",
    "\n",
    "To make the dataset easier to visualize, upon the calculating the age, I also removed information that was not relevant to the machine learning process."
   ]
  },
  {
   "cell_type": "code",
   "execution_count": 3,
   "metadata": {},
   "outputs": [
    {
     "name": "stdout",
     "output_type": "stream",
     "text": [
      "2211-06-10 00:00:00\n"
     ]
    },
    {
     "data": {
      "text/html": [
       "<div>\n",
       "<style scoped>\n",
       "    .dataframe tbody tr th:only-of-type {\n",
       "        vertical-align: middle;\n",
       "    }\n",
       "\n",
       "    .dataframe tbody tr th {\n",
       "        vertical-align: top;\n",
       "    }\n",
       "\n",
       "    .dataframe thead th {\n",
       "        text-align: right;\n",
       "    }\n",
       "</style>\n",
       "<table border=\"1\" class=\"dataframe\">\n",
       "  <thead>\n",
       "    <tr style=\"text-align: right;\">\n",
       "      <th></th>\n",
       "      <th>SUBJECT_ID</th>\n",
       "      <th>GENDER</th>\n",
       "      <th>DOB</th>\n",
       "      <th>DOD</th>\n",
       "      <th>Age</th>\n",
       "    </tr>\n",
       "  </thead>\n",
       "  <tbody>\n",
       "    <tr>\n",
       "      <th>0</th>\n",
       "      <td>249</td>\n",
       "      <td>F</td>\n",
       "      <td>2075-03-13</td>\n",
       "      <td>NaT</td>\n",
       "      <td>137.334247</td>\n",
       "    </tr>\n",
       "    <tr>\n",
       "      <th>1</th>\n",
       "      <td>250</td>\n",
       "      <td>F</td>\n",
       "      <td>2164-12-27</td>\n",
       "      <td>2188-11-22</td>\n",
       "      <td>23.920548</td>\n",
       "    </tr>\n",
       "    <tr>\n",
       "      <th>2</th>\n",
       "      <td>251</td>\n",
       "      <td>M</td>\n",
       "      <td>2090-03-15</td>\n",
       "      <td>NaT</td>\n",
       "      <td>122.317808</td>\n",
       "    </tr>\n",
       "    <tr>\n",
       "      <th>3</th>\n",
       "      <td>252</td>\n",
       "      <td>M</td>\n",
       "      <td>2078-03-06</td>\n",
       "      <td>NaT</td>\n",
       "      <td>134.350685</td>\n",
       "    </tr>\n",
       "    <tr>\n",
       "      <th>4</th>\n",
       "      <td>253</td>\n",
       "      <td>F</td>\n",
       "      <td>2089-11-26</td>\n",
       "      <td>NaT</td>\n",
       "      <td>122.616438</td>\n",
       "    </tr>\n",
       "  </tbody>\n",
       "</table>\n",
       "</div>"
      ],
      "text/plain": [
       "   SUBJECT_ID GENDER        DOB        DOD         Age\n",
       "0         249      F 2075-03-13        NaT  137.334247\n",
       "1         250      F 2164-12-27 2188-11-22   23.920548\n",
       "2         251      M 2090-03-15        NaT  122.317808\n",
       "3         252      M 2078-03-06        NaT  134.350685\n",
       "4         253      F 2089-11-26        NaT  122.616438"
      ]
     },
     "execution_count": 3,
     "metadata": {},
     "output_type": "execute_result"
    }
   ],
   "source": [
    "labevents = labevents.dropna()\n",
    "# removes all rows that have are NaN in the dataframe - in this case, only HADM_ID has NaNs\n",
    "\n",
    "patients['DOB'] = pd.to_datetime(patients['DOB'])\n",
    "patients['DOD'] = pd.to_datetime(patients['DOD'])\n",
    "# converts DOD and DOB to data time objects in the pd dataframe\n",
    "\n",
    "print((patients['DOD']).max())\n",
    "currentTime = pd.Timestamp(2212, 6, 10, 10, 10, 10)\n",
    "# find the current time by adding one year onto the most recent date of death\n",
    "\n",
    "patients['Age'] = ((patients['DOD'] - patients['DOB']).dt.days)/365\n",
    "# for the rows that do not have NaN in the DOD column, subtract the DOB from DOD to get the age at their time of death\n",
    "\n",
    "patients['CurrentTime'] = currentTime\n",
    "patients['CurrentTime'] = pd.to_datetime(patients['CurrentTime'])\n",
    "\n",
    "patients['Temp'] = (patients['CurrentTime'] - patients['DOB']).dt.days/365\n",
    "# creates a temporary column that has the ages of the patients - including all the patients that have died\n",
    "\n",
    "patients.loc[patients['Age'].isna(), 'Age'] = patients['Temp']\n",
    "# for all the ages that are nan - i.e. the patients that do not have a DOD value -, replace it with the age calculated\n",
    "\n",
    "patients = patients[['SUBJECT_ID', 'GENDER', 'DOB', 'DOD', 'Age']]\n",
    "\n",
    "patients.head()"
   ]
  },
  {
   "cell_type": "markdown",
   "metadata": {},
   "source": [
    "I then further cleaned up, and made the **labevents** table smaller by only keeping the lab tests that I thought were relevant to the machine learning model. I got the *ITEMID* of the tests corresponding to the four categories I listed below.\n",
    "\n",
    "Calcium (Total) - 50893   \n",
    "Albumin - 50862   \n",
    "Urea Nitrogen - 51006   \n",
    "Magnesium - 50960\n"
   ]
  },
  {
   "cell_type": "code",
   "execution_count": 11,
   "metadata": {},
   "outputs": [
    {
     "data": {
      "text/html": [
       "<div>\n",
       "<style scoped>\n",
       "    .dataframe tbody tr th:only-of-type {\n",
       "        vertical-align: middle;\n",
       "    }\n",
       "\n",
       "    .dataframe tbody tr th {\n",
       "        vertical-align: top;\n",
       "    }\n",
       "\n",
       "    .dataframe thead th {\n",
       "        text-align: right;\n",
       "    }\n",
       "</style>\n",
       "<table border=\"1\" class=\"dataframe\">\n",
       "  <thead>\n",
       "    <tr style=\"text-align: right;\">\n",
       "      <th></th>\n",
       "      <th>SUBJECT_ID</th>\n",
       "      <th>HADM_ID</th>\n",
       "      <th>ITEMID</th>\n",
       "      <th>VALUENUM</th>\n",
       "    </tr>\n",
       "  </thead>\n",
       "  <tbody>\n",
       "    <tr>\n",
       "      <th>162</th>\n",
       "      <td>3</td>\n",
       "      <td>145834.0</td>\n",
       "      <td>50893</td>\n",
       "      <td>8.2</td>\n",
       "    </tr>\n",
       "    <tr>\n",
       "      <th>168</th>\n",
       "      <td>3</td>\n",
       "      <td>145834.0</td>\n",
       "      <td>50960</td>\n",
       "      <td>2.4</td>\n",
       "    </tr>\n",
       "    <tr>\n",
       "      <th>178</th>\n",
       "      <td>3</td>\n",
       "      <td>145834.0</td>\n",
       "      <td>50893</td>\n",
       "      <td>7.6</td>\n",
       "    </tr>\n",
       "    <tr>\n",
       "      <th>182</th>\n",
       "      <td>3</td>\n",
       "      <td>145834.0</td>\n",
       "      <td>50960</td>\n",
       "      <td>2.1</td>\n",
       "    </tr>\n",
       "    <tr>\n",
       "      <th>187</th>\n",
       "      <td>3</td>\n",
       "      <td>145834.0</td>\n",
       "      <td>51006</td>\n",
       "      <td>36</td>\n",
       "    </tr>\n",
       "  </tbody>\n",
       "</table>\n",
       "</div>"
      ],
      "text/plain": [
       "     SUBJECT_ID   HADM_ID  ITEMID VALUENUM\n",
       "162           3  145834.0   50893      8.2\n",
       "168           3  145834.0   50960      2.4\n",
       "178           3  145834.0   50893      7.6\n",
       "182           3  145834.0   50960      2.1\n",
       "187           3  145834.0   51006       36"
      ]
     },
     "execution_count": 11,
     "metadata": {},
     "output_type": "execute_result"
    }
   ],
   "source": [
    "labevents = labevents.loc[(labevents['ITEMID'] == 50893) | (labevents['ITEMID'] == 50862) | \n",
    "                          (labevents['ITEMID']==51006) | (labevents['ITEMID'] == 50960)]\n",
    "# locates and only keeps the rows that correspond to the 4 subject codes for calcium, albumin, urea and magnesium\n",
    "\n",
    "labevents.head()"
   ]
  },
  {
   "cell_type": "markdown",
   "metadata": {},
   "source": [
    "Following this, I combined the **labevents** table with the the **D_LABITEMS** table so that I would be able to better see on the table what each of the lab tests actually was."
   ]
  },
  {
   "cell_type": "code",
   "execution_count": 20,
   "metadata": {},
   "outputs": [],
   "source": [
    "mergedLab = pd.merge(labevents, D_lab[['ITEMID', 'LABEL']], on='ITEMID')\n",
    "# merges the labevents and D_lab dataframe on the column 'ITEMID', while only selecting the columns of ITEMID and LABEL from\n",
    "# the D_lab dataframe"
   ]
  },
  {
   "cell_type": "markdown",
   "metadata": {},
   "source": [
    "Upon inspection, I realized that the VALUENUM column actually contained string values. I will want to use the values later\n",
    "as a means for doing some data visualizations so I will need to change the value column to either integer or float values"
   ]
  },
  {
   "cell_type": "code",
   "execution_count": 21,
   "metadata": {},
   "outputs": [
    {
     "data": {
      "text/html": [
       "<div>\n",
       "<style scoped>\n",
       "    .dataframe tbody tr th:only-of-type {\n",
       "        vertical-align: middle;\n",
       "    }\n",
       "\n",
       "    .dataframe tbody tr th {\n",
       "        vertical-align: top;\n",
       "    }\n",
       "\n",
       "    .dataframe thead th {\n",
       "        text-align: right;\n",
       "    }\n",
       "</style>\n",
       "<table border=\"1\" class=\"dataframe\">\n",
       "  <thead>\n",
       "    <tr style=\"text-align: right;\">\n",
       "      <th></th>\n",
       "      <th>SUBJECT_ID</th>\n",
       "      <th>HADM_ID</th>\n",
       "      <th>ITEMID</th>\n",
       "      <th>VALUENUM</th>\n",
       "      <th>LABEL</th>\n",
       "    </tr>\n",
       "  </thead>\n",
       "  <tbody>\n",
       "    <tr>\n",
       "      <th>0</th>\n",
       "      <td>3</td>\n",
       "      <td>145834.0</td>\n",
       "      <td>50893</td>\n",
       "      <td>8.2</td>\n",
       "      <td>Calcium, Total</td>\n",
       "    </tr>\n",
       "    <tr>\n",
       "      <th>1</th>\n",
       "      <td>3</td>\n",
       "      <td>145834.0</td>\n",
       "      <td>50893</td>\n",
       "      <td>7.6</td>\n",
       "      <td>Calcium, Total</td>\n",
       "    </tr>\n",
       "    <tr>\n",
       "      <th>2</th>\n",
       "      <td>3</td>\n",
       "      <td>145834.0</td>\n",
       "      <td>50893</td>\n",
       "      <td>7.1</td>\n",
       "      <td>Calcium, Total</td>\n",
       "    </tr>\n",
       "    <tr>\n",
       "      <th>3</th>\n",
       "      <td>3</td>\n",
       "      <td>145834.0</td>\n",
       "      <td>50893</td>\n",
       "      <td>7.5</td>\n",
       "      <td>Calcium, Total</td>\n",
       "    </tr>\n",
       "    <tr>\n",
       "      <th>4</th>\n",
       "      <td>3</td>\n",
       "      <td>145834.0</td>\n",
       "      <td>50893</td>\n",
       "      <td>7.4</td>\n",
       "      <td>Calcium, Total</td>\n",
       "    </tr>\n",
       "  </tbody>\n",
       "</table>\n",
       "</div>"
      ],
      "text/plain": [
       "   SUBJECT_ID   HADM_ID  ITEMID  VALUENUM           LABEL\n",
       "0           3  145834.0   50893       8.2  Calcium, Total\n",
       "1           3  145834.0   50893       7.6  Calcium, Total\n",
       "2           3  145834.0   50893       7.1  Calcium, Total\n",
       "3           3  145834.0   50893       7.5  Calcium, Total\n",
       "4           3  145834.0   50893       7.4  Calcium, Total"
      ]
     },
     "execution_count": 21,
     "metadata": {},
     "output_type": "execute_result"
    }
   ],
   "source": [
    "mergedLab.VALUENUM = mergedLab.VALUENUM.astype(float).fillna(0.0)\n",
    "mergedLab.head()"
   ]
  },
  {
   "cell_type": "markdown",
   "metadata": {},
   "source": [
    "I then also cleaned up the **admissions** table by only picking out the important information such as subject ID, admission ID, admit time, discharge time, death time, marital status and insurance provider.\n",
    "\n",
    "I also merged the admissions with the patient table based on the *SUBJECT_ID* column."
   ]
  },
  {
   "cell_type": "code",
   "execution_count": 9,
   "metadata": {},
   "outputs": [
    {
     "data": {
      "text/html": [
       "<div>\n",
       "<style scoped>\n",
       "    .dataframe tbody tr th:only-of-type {\n",
       "        vertical-align: middle;\n",
       "    }\n",
       "\n",
       "    .dataframe tbody tr th {\n",
       "        vertical-align: top;\n",
       "    }\n",
       "\n",
       "    .dataframe thead th {\n",
       "        text-align: right;\n",
       "    }\n",
       "</style>\n",
       "<table border=\"1\" class=\"dataframe\">\n",
       "  <thead>\n",
       "    <tr style=\"text-align: right;\">\n",
       "      <th></th>\n",
       "      <th>SUBJECT_ID</th>\n",
       "      <th>GENDER</th>\n",
       "      <th>DOB</th>\n",
       "      <th>DOD</th>\n",
       "      <th>Age</th>\n",
       "      <th>ROW_ID</th>\n",
       "      <th>HADM_ID</th>\n",
       "      <th>ADMITTIME</th>\n",
       "      <th>DISCHTIME</th>\n",
       "      <th>DEATHTIME</th>\n",
       "      <th>INSURANCE</th>\n",
       "      <th>MARITAL_STATUS</th>\n",
       "    </tr>\n",
       "  </thead>\n",
       "  <tbody>\n",
       "    <tr>\n",
       "      <th>0</th>\n",
       "      <td>249</td>\n",
       "      <td>F</td>\n",
       "      <td>2075-03-13</td>\n",
       "      <td>NaT</td>\n",
       "      <td>137.334247</td>\n",
       "      <td>321</td>\n",
       "      <td>116935</td>\n",
       "      <td>2149-12-17 20:41:00</td>\n",
       "      <td>2149-12-31 14:55:00</td>\n",
       "      <td>NaN</td>\n",
       "      <td>Medicare</td>\n",
       "      <td>DIVORCED</td>\n",
       "    </tr>\n",
       "    <tr>\n",
       "      <th>1</th>\n",
       "      <td>249</td>\n",
       "      <td>F</td>\n",
       "      <td>2075-03-13</td>\n",
       "      <td>NaT</td>\n",
       "      <td>137.334247</td>\n",
       "      <td>322</td>\n",
       "      <td>149546</td>\n",
       "      <td>2155-02-03 20:16:00</td>\n",
       "      <td>2155-02-14 11:15:00</td>\n",
       "      <td>NaN</td>\n",
       "      <td>Medicare</td>\n",
       "      <td>DIVORCED</td>\n",
       "    </tr>\n",
       "    <tr>\n",
       "      <th>2</th>\n",
       "      <td>249</td>\n",
       "      <td>F</td>\n",
       "      <td>2075-03-13</td>\n",
       "      <td>NaT</td>\n",
       "      <td>137.334247</td>\n",
       "      <td>323</td>\n",
       "      <td>158975</td>\n",
       "      <td>2156-04-27 15:33:00</td>\n",
       "      <td>2156-05-14 15:30:00</td>\n",
       "      <td>NaN</td>\n",
       "      <td>Medicare</td>\n",
       "      <td>DIVORCED</td>\n",
       "    </tr>\n",
       "    <tr>\n",
       "      <th>3</th>\n",
       "      <td>250</td>\n",
       "      <td>F</td>\n",
       "      <td>2164-12-27</td>\n",
       "      <td>2188-11-22</td>\n",
       "      <td>23.920548</td>\n",
       "      <td>324</td>\n",
       "      <td>124271</td>\n",
       "      <td>2188-11-12 09:22:00</td>\n",
       "      <td>2188-11-22 12:00:00</td>\n",
       "      <td>2188-11-22 12:00:00</td>\n",
       "      <td>Self Pay</td>\n",
       "      <td>SINGLE</td>\n",
       "    </tr>\n",
       "    <tr>\n",
       "      <th>4</th>\n",
       "      <td>251</td>\n",
       "      <td>M</td>\n",
       "      <td>2090-03-15</td>\n",
       "      <td>NaT</td>\n",
       "      <td>122.317808</td>\n",
       "      <td>325</td>\n",
       "      <td>117937</td>\n",
       "      <td>2110-07-27 06:46:00</td>\n",
       "      <td>2110-07-29 15:23:00</td>\n",
       "      <td>NaN</td>\n",
       "      <td>Private</td>\n",
       "      <td>NaN</td>\n",
       "    </tr>\n",
       "  </tbody>\n",
       "</table>\n",
       "</div>"
      ],
      "text/plain": [
       "   SUBJECT_ID GENDER        DOB        DOD         Age  ROW_ID  HADM_ID  \\\n",
       "0         249      F 2075-03-13        NaT  137.334247     321   116935   \n",
       "1         249      F 2075-03-13        NaT  137.334247     322   149546   \n",
       "2         249      F 2075-03-13        NaT  137.334247     323   158975   \n",
       "3         250      F 2164-12-27 2188-11-22   23.920548     324   124271   \n",
       "4         251      M 2090-03-15        NaT  122.317808     325   117937   \n",
       "\n",
       "             ADMITTIME            DISCHTIME            DEATHTIME INSURANCE  \\\n",
       "0  2149-12-17 20:41:00  2149-12-31 14:55:00                  NaN  Medicare   \n",
       "1  2155-02-03 20:16:00  2155-02-14 11:15:00                  NaN  Medicare   \n",
       "2  2156-04-27 15:33:00  2156-05-14 15:30:00                  NaN  Medicare   \n",
       "3  2188-11-12 09:22:00  2188-11-22 12:00:00  2188-11-22 12:00:00  Self Pay   \n",
       "4  2110-07-27 06:46:00  2110-07-29 15:23:00                  NaN   Private   \n",
       "\n",
       "  MARITAL_STATUS  \n",
       "0       DIVORCED  \n",
       "1       DIVORCED  \n",
       "2       DIVORCED  \n",
       "3         SINGLE  \n",
       "4            NaN  "
      ]
     },
     "execution_count": 9,
     "metadata": {},
     "output_type": "execute_result"
    }
   ],
   "source": [
    "mergedAdmission = pd.merge(patients, admissions[['ROW_ID', 'SUBJECT_ID', 'HADM_ID', 'ADMITTIME',\n",
    "                                                 'DISCHTIME', 'DEATHTIME', 'INSURANCE', 'MARITAL_STATUS']], on='SUBJECT_ID')\n",
    "\n",
    "# merges the patients the admissions table together based on the column of 'SUBJECT_ID'\n",
    "mergedAdmission.head()"
   ]
  },
  {
   "cell_type": "markdown",
   "metadata": {},
   "source": [
    "At this point, I have cleaned up the data to the extent that I want and will move on to exploring the data better and understanding the general trends of the data."
   ]
  },
  {
   "cell_type": "markdown",
   "metadata": {},
   "source": [
    "## Exploratory Data Analysis\n",
    "\n",
    "The first thing that I thought to do in this part of the project was to investigate the merged labevents dataframe that I created. Based on the four categories that I chose and their numerical values, I wanted to figure out some sort of visualization to display them and then move forwards to look at their max, min, median and mean values."
   ]
  },
  {
   "cell_type": "code",
   "execution_count": 24,
   "metadata": {},
   "outputs": [
    {
     "data": {
      "text/plain": [
       "mean     8.422954\n",
       "50%      8.400000\n",
       "max     23.000000\n",
       "min      0.300000\n",
       "Name: VALUENUM, dtype: float64"
      ]
     },
     "execution_count": 24,
     "metadata": {},
     "output_type": "execute_result"
    }
   ],
   "source": [
    "calcium = mergedLab.loc[(mergedLab['LABEL'] == 'Calcium, Total')]\n",
    "\n",
    "calcium['VALUENUM'].describe().transpose()[['mean', '50%', 'max', 'min']]\n",
    "#mergedLab.describe().transpose()[['mean', '50%', 'max', 'min']]"
   ]
  },
  {
   "cell_type": "code",
   "execution_count": null,
   "metadata": {},
   "outputs": [],
   "source": []
  }
 ],
 "metadata": {
  "kernelspec": {
   "display_name": "Python 3",
   "language": "python",
   "name": "python3"
  },
  "language_info": {
   "codemirror_mode": {
    "name": "ipython",
    "version": 3
   },
   "file_extension": ".py",
   "mimetype": "text/x-python",
   "name": "python",
   "nbconvert_exporter": "python",
   "pygments_lexer": "ipython3",
   "version": "3.7.1"
  }
 },
 "nbformat": 4,
 "nbformat_minor": 2
}
